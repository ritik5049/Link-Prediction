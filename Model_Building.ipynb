{
 "cells": [
  {
   "cell_type": "code",
   "execution_count": 47,
   "id": "amateur-amsterdam",
   "metadata": {},
   "outputs": [],
   "source": [
    "%matplotlib inline\n",
    "\n",
    "import pickle\n",
    "import copy\n",
    "import time\n",
    "import warnings\n",
    "warnings.filterwarnings('ignore')\n",
    "\n",
    "import pandas as pd\n",
    "import numpy as np\n",
    "import networkx as nx\n",
    "import xgboost as xgb\n",
    "import matplotlib.pyplot as plt\n",
    "\n",
    "from xgboost import XGBClassifier\n",
    "from sklearn.model_selection import train_test_split, GridSearchCV, StratifiedKFold\n",
    "from sklearn.linear_model import LogisticRegression\n",
    "from sklearn.ensemble import RandomForestClassifier\n",
    "from sklearn import svm\n",
    "from sklearn.metrics import classification_report, confusion_matrix"
   ]
  },
  {
   "cell_type": "code",
   "execution_count": 48,
   "id": "running-broad",
   "metadata": {},
   "outputs": [
    {
     "data": {
      "text/html": [
       "<div>\n",
       "<style scoped>\n",
       "    .dataframe tbody tr th:only-of-type {\n",
       "        vertical-align: middle;\n",
       "    }\n",
       "\n",
       "    .dataframe tbody tr th {\n",
       "        vertical-align: top;\n",
       "    }\n",
       "\n",
       "    .dataframe thead th {\n",
       "        text-align: right;\n",
       "    }\n",
       "</style>\n",
       "<table border=\"1\" class=\"dataframe\">\n",
       "  <thead>\n",
       "    <tr style=\"text-align: right;\">\n",
       "      <th></th>\n",
       "      <th>Source</th>\n",
       "      <th>Destination</th>\n",
       "      <th>Class</th>\n",
       "      <th>Page_Rank_Src</th>\n",
       "      <th>Page_Rank_Dst</th>\n",
       "      <th>Shortest_Path</th>\n",
       "      <th>Followers_Src</th>\n",
       "      <th>Followees_Src</th>\n",
       "      <th>Followers_Dst</th>\n",
       "      <th>Followees_Dst</th>\n",
       "      <th>Int_Followers</th>\n",
       "      <th>Int_Followees</th>\n",
       "    </tr>\n",
       "  </thead>\n",
       "  <tbody>\n",
       "    <tr>\n",
       "      <th>0</th>\n",
       "      <td>6194</td>\n",
       "      <td>255</td>\n",
       "      <td>1</td>\n",
       "      <td>0.000023</td>\n",
       "      <td>0.000013</td>\n",
       "      <td>-1</td>\n",
       "      <td>0</td>\n",
       "      <td>3</td>\n",
       "      <td>0</td>\n",
       "      <td>3</td>\n",
       "      <td>0</td>\n",
       "      <td>0</td>\n",
       "    </tr>\n",
       "    <tr>\n",
       "      <th>1</th>\n",
       "      <td>6194</td>\n",
       "      <td>980</td>\n",
       "      <td>1</td>\n",
       "      <td>0.000023</td>\n",
       "      <td>0.000014</td>\n",
       "      <td>-1</td>\n",
       "      <td>0</td>\n",
       "      <td>3</td>\n",
       "      <td>0</td>\n",
       "      <td>15</td>\n",
       "      <td>0</td>\n",
       "      <td>1</td>\n",
       "    </tr>\n",
       "    <tr>\n",
       "      <th>2</th>\n",
       "      <td>6194</td>\n",
       "      <td>2992</td>\n",
       "      <td>1</td>\n",
       "      <td>0.000023</td>\n",
       "      <td>0.000024</td>\n",
       "      <td>4</td>\n",
       "      <td>0</td>\n",
       "      <td>3</td>\n",
       "      <td>2</td>\n",
       "      <td>0</td>\n",
       "      <td>0</td>\n",
       "      <td>0</td>\n",
       "    </tr>\n",
       "    <tr>\n",
       "      <th>3</th>\n",
       "      <td>6194</td>\n",
       "      <td>2507</td>\n",
       "      <td>1</td>\n",
       "      <td>0.000023</td>\n",
       "      <td>0.000020</td>\n",
       "      <td>3</td>\n",
       "      <td>0</td>\n",
       "      <td>3</td>\n",
       "      <td>8</td>\n",
       "      <td>13</td>\n",
       "      <td>0</td>\n",
       "      <td>0</td>\n",
       "    </tr>\n",
       "    <tr>\n",
       "      <th>4</th>\n",
       "      <td>6194</td>\n",
       "      <td>986</td>\n",
       "      <td>1</td>\n",
       "      <td>0.000023</td>\n",
       "      <td>0.000029</td>\n",
       "      <td>-1</td>\n",
       "      <td>0</td>\n",
       "      <td>3</td>\n",
       "      <td>0</td>\n",
       "      <td>20</td>\n",
       "      <td>0</td>\n",
       "      <td>0</td>\n",
       "    </tr>\n",
       "  </tbody>\n",
       "</table>\n",
       "</div>"
      ],
      "text/plain": [
       "   Source  Destination  Class  Page_Rank_Src  Page_Rank_Dst  Shortest_Path  \\\n",
       "0    6194          255      1       0.000023       0.000013             -1   \n",
       "1    6194          980      1       0.000023       0.000014             -1   \n",
       "2    6194         2992      1       0.000023       0.000024              4   \n",
       "3    6194         2507      1       0.000023       0.000020              3   \n",
       "4    6194          986      1       0.000023       0.000029             -1   \n",
       "\n",
       "   Followers_Src  Followees_Src  Followers_Dst  Followees_Dst  Int_Followers  \\\n",
       "0              0              3              0              3              0   \n",
       "1              0              3              0             15              0   \n",
       "2              0              3              2              0              0   \n",
       "3              0              3              8             13              0   \n",
       "4              0              3              0             20              0   \n",
       "\n",
       "   Int_Followees  \n",
       "0              0  \n",
       "1              1  \n",
       "2              0  \n",
       "3              0  \n",
       "4              0  "
      ]
     },
     "execution_count": 48,
     "metadata": {},
     "output_type": "execute_result"
    }
   ],
   "source": [
    "df = pd.read_csv('./data/twitch_final_dataset.csv')\n",
    "df = df.drop(columns=['Unnamed: 0'])\n",
    "df.head(5)"
   ]
  },
  {
   "cell_type": "code",
   "execution_count": 49,
   "id": "parental-supplier",
   "metadata": {},
   "outputs": [
    {
     "data": {
      "text/plain": [
       "<AxesSubplot:>"
      ]
     },
     "execution_count": 49,
     "metadata": {},
     "output_type": "execute_result"
    },
    {
     "data": {
      "image/png": "[encoded data removed]",
      "text/plain": [
       "<Figure size 432x288 with 1 Axes>"
      ]
     },
     "metadata": {
      "needs_background": "light"
     },
     "output_type": "display_data"
    }
   ],
   "source": [
    "x = df['Page_Rank_Src']\n",
    "df['Page_Rank_Src'] = ( x-x.min()) / ( x.max() - x.min() )\n",
    "df['Page_Rank_Src'].hist()"
   ]
  },
  {
   "cell_type": "code",
   "execution_count": 50,
   "id": "specialized-karen",
   "metadata": {},
   "outputs": [
    {
     "data": {
      "text/plain": [
       "<AxesSubplot:>"
      ]
     },
     "execution_count": 50,
     "metadata": {},
     "output_type": "execute_result"
    },
    {
     "data": {
      "image/png": "[encoded data removed]",
      "text/plain": [
       "<Figure size 432x288 with 1 Axes>"
      ]
     },
     "metadata": {
      "needs_background": "light"
     },
     "output_type": "display_data"
    }
   ],
   "source": [
    "x = df['Page_Rank_Dst']\n",
    "df['Page_Rank_Dst'] = ( x-x.min()) / ( x.max() - x.min() )\n",
    "df['Page_Rank_Dst'].hist()"
   ]
  },
  {
   "cell_type": "code",
   "execution_count": 51,
   "id": "disabled-australia",
   "metadata": {},
   "outputs": [
    {
     "data": {
      "text/plain": [
       "<AxesSubplot:>"
      ]
     },
     "execution_count": 51,
     "metadata": {},
     "output_type": "execute_result"
    },
    {
     "data": {
      "image/png": "[encoded data removed]",
      "text/plain": [
       "<Figure size 432x288 with 1 Axes>"
      ]
     },
     "metadata": {
      "needs_background": "light"
     },
     "output_type": "display_data"
    }
   ],
   "source": [
    "x = df['Shortest_Path']\n",
    "df['Shortest_Path'] = ( x-x.min()) / ( x.max() - x.min() )\n",
    "df['Shortest_Path'].hist()"
   ]
  },
  {
   "cell_type": "code",
   "execution_count": 52,
   "id": "sophisticated-bones",
   "metadata": {},
   "outputs": [
    {
     "data": {
      "text/plain": [
       "<AxesSubplot:>"
      ]
     },
     "execution_count": 52,
     "metadata": {},
     "output_type": "execute_result"
    },
    {
     "data": {
      "image/png": "[encoded data removed]",
      "text/plain": [
       "<Figure size 432x288 with 1 Axes>"
      ]
     },
     "metadata": {
      "needs_background": "light"
     },
     "output_type": "display_data"
    }
   ],
   "source": [
    "x = df['Followees_Dst']\n",
    "df['Followees_Dst'] = ( x-x.min()) / ( x.max() - x.min() )\n",
    "df['Followees_Dst'].hist()"
   ]
  },
  {
   "cell_type": "code",
   "execution_count": 53,
   "id": "selective-robinson",
   "metadata": {},
   "outputs": [
    {
     "data": {
      "text/plain": [
       "<AxesSubplot:>"
      ]
     },
     "execution_count": 53,
     "metadata": {},
     "output_type": "execute_result"
    },
    {
     "data": {
      "image/png": "[encoded data removed]",
      "text/plain": [
       "<Figure size 432x288 with 1 Axes>"
      ]
     },
     "metadata": {
      "needs_background": "light"
     },
     "output_type": "display_data"
    }
   ],
   "source": [
    "x = df['Followees_Src']\n",
    "df['Followees_Src'] = ( x-x.min()) / ( x.max() - x.min() )\n",
    "df['Followees_Src'].hist()"
   ]
  },
  {
   "cell_type": "code",
   "execution_count": 54,
   "id": "surprised-experiment",
   "metadata": {},
   "outputs": [
    {
     "data": {
      "text/plain": [
       "<AxesSubplot:>"
      ]
     },
     "execution_count": 54,
     "metadata": {},
     "output_type": "execute_result"
    },
    {
     "data": {
      "image/png": "[encoded data removed]",
      "text/plain": [
       "<Figure size 432x288 with 1 Axes>"
      ]
     },
     "metadata": {
      "needs_background": "light"
     },
     "output_type": "display_data"
    }
   ],
   "source": [
    "x = df['Followers_Dst']\n",
    "df['Followers_Dst'] = ( x-x.min()) / ( x.max() - x.min() )\n",
    "df['Followers_Dst'].hist()"
   ]
  },
  {
   "cell_type": "code",
   "execution_count": 55,
   "id": "alien-florence",
   "metadata": {},
   "outputs": [
    {
     "data": {
      "text/plain": [
       "<AxesSubplot:>"
      ]
     },
     "execution_count": 55,
     "metadata": {},
     "output_type": "execute_result"
    },
    {
     "data": {
      "image/png": "[encoded data removed]",
      "text/plain": [
       "<Figure size 432x288 with 1 Axes>"
      ]
     },
     "metadata": {
      "needs_background": "light"
     },
     "output_type": "display_data"
    }
   ],
   "source": [
    "x = df['Followers_Src']\n",
    "df['Followers_Src'] = ( x-x.min()) / ( x.max() - x.min() )\n",
    "df['Followers_Src'].hist()"
   ]
  },
  {
   "cell_type": "code",
   "execution_count": 56,
   "id": "pacific-legislature",
   "metadata": {},
   "outputs": [
    {
     "data": {
      "text/plain": [
       "<AxesSubplot:>"
      ]
     },
     "execution_count": 56,
     "metadata": {},
     "output_type": "execute_result"
    },
    {
     "data": {
      "image/png": "[encoded data removed]",
      "text/plain": [
       "<Figure size 432x288 with 1 Axes>"
      ]
     },
     "metadata": {
      "needs_background": "light"
     },
     "output_type": "display_data"
    }
   ],
   "source": [
    "x = df['Int_Followees']\n",
    "df['Int_Followees'] = ( x-x.min()) / ( x.max() - x.min() )\n",
    "df['Int_Followees'].hist()"
   ]
  },
  {
   "cell_type": "code",
   "execution_count": 57,
   "id": "inside-latter",
   "metadata": {},
   "outputs": [
    {
     "data": {
      "text/plain": [
       "<AxesSubplot:>"
      ]
     },
     "execution_count": 57,
     "metadata": {},
     "output_type": "execute_result"
    },
    {
     "data": {
      "image/png": "[encoded data removed]",
      "text/plain": [
       "<Figure size 432x288 with 1 Axes>"
      ]
     },
     "metadata": {
      "needs_background": "light"
     },
     "output_type": "display_data"
    }
   ],
   "source": [
    "x = df['Int_Followers']\n",
    "df['Int_Followers'] = ( x-x.min()) / ( x.max() - x.min() )\n",
    "df['Int_Followers'].hist()"
   ]
  },
  {
   "cell_type": "code",
   "execution_count": 58,
   "id": "hollywood-grounds",
   "metadata": {},
   "outputs": [
    {
     "data": {
      "text/html": [
       "<div>\n",
       "<style scoped>\n",
       "    .dataframe tbody tr th:only-of-type {\n",
       "        vertical-align: middle;\n",
       "    }\n",
       "\n",
       "    .dataframe tbody tr th {\n",
       "        vertical-align: top;\n",
       "    }\n",
       "\n",
       "    .dataframe thead th {\n",
       "        text-align: right;\n",
       "    }\n",
       "</style>\n",
       "<table border=\"1\" class=\"dataframe\">\n",
       "  <thead>\n",
       "    <tr style=\"text-align: right;\">\n",
       "      <th></th>\n",
       "      <th>Source</th>\n",
       "      <th>Destination</th>\n",
       "      <th>Class</th>\n",
       "      <th>Page_Rank_Src</th>\n",
       "      <th>Page_Rank_Dst</th>\n",
       "      <th>Shortest_Path</th>\n",
       "      <th>Followers_Src</th>\n",
       "      <th>Followees_Src</th>\n",
       "      <th>Followers_Dst</th>\n",
       "      <th>Followees_Dst</th>\n",
       "      <th>Int_Followers</th>\n",
       "      <th>Int_Followees</th>\n",
       "    </tr>\n",
       "  </thead>\n",
       "  <tbody>\n",
       "    <tr>\n",
       "      <th>0</th>\n",
       "      <td>6194</td>\n",
       "      <td>255</td>\n",
       "      <td>1</td>\n",
       "      <td>0.006865</td>\n",
       "      <td>0.001469</td>\n",
       "      <td>0.00</td>\n",
       "      <td>0.0</td>\n",
       "      <td>0.007772</td>\n",
       "      <td>0.000000</td>\n",
       "      <td>0.007772</td>\n",
       "      <td>0.0</td>\n",
       "      <td>0.000000</td>\n",
       "    </tr>\n",
       "    <tr>\n",
       "      <th>1</th>\n",
       "      <td>6194</td>\n",
       "      <td>980</td>\n",
       "      <td>1</td>\n",
       "      <td>0.006865</td>\n",
       "      <td>0.001998</td>\n",
       "      <td>0.00</td>\n",
       "      <td>0.0</td>\n",
       "      <td>0.007772</td>\n",
       "      <td>0.000000</td>\n",
       "      <td>0.038860</td>\n",
       "      <td>0.0</td>\n",
       "      <td>0.013158</td>\n",
       "    </tr>\n",
       "    <tr>\n",
       "      <th>2</th>\n",
       "      <td>6194</td>\n",
       "      <td>2992</td>\n",
       "      <td>1</td>\n",
       "      <td>0.006865</td>\n",
       "      <td>0.007285</td>\n",
       "      <td>0.20</td>\n",
       "      <td>0.0</td>\n",
       "      <td>0.007772</td>\n",
       "      <td>0.004988</td>\n",
       "      <td>0.000000</td>\n",
       "      <td>0.0</td>\n",
       "      <td>0.000000</td>\n",
       "    </tr>\n",
       "    <tr>\n",
       "      <th>3</th>\n",
       "      <td>6194</td>\n",
       "      <td>2507</td>\n",
       "      <td>1</td>\n",
       "      <td>0.006865</td>\n",
       "      <td>0.005517</td>\n",
       "      <td>0.16</td>\n",
       "      <td>0.0</td>\n",
       "      <td>0.007772</td>\n",
       "      <td>0.019950</td>\n",
       "      <td>0.033679</td>\n",
       "      <td>0.0</td>\n",
       "      <td>0.000000</td>\n",
       "    </tr>\n",
       "    <tr>\n",
       "      <th>4</th>\n",
       "      <td>6194</td>\n",
       "      <td>986</td>\n",
       "      <td>1</td>\n",
       "      <td>0.006865</td>\n",
       "      <td>0.010406</td>\n",
       "      <td>0.00</td>\n",
       "      <td>0.0</td>\n",
       "      <td>0.007772</td>\n",
       "      <td>0.000000</td>\n",
       "      <td>0.051813</td>\n",
       "      <td>0.0</td>\n",
       "      <td>0.000000</td>\n",
       "    </tr>\n",
       "  </tbody>\n",
       "</table>\n",
       "</div>"
      ],
      "text/plain": [
       "   Source  Destination  Class  Page_Rank_Src  Page_Rank_Dst  Shortest_Path  \\\n",
       "0    6194          255      1       0.006865       0.001469           0.00   \n",
       "1    6194          980      1       0.006865       0.001998           0.00   \n",
       "2    6194         2992      1       0.006865       0.007285           0.20   \n",
       "3    6194         2507      1       0.006865       0.005517           0.16   \n",
       "4    6194          986      1       0.006865       0.010406           0.00   \n",
       "\n",
       "   Followers_Src  Followees_Src  Followers_Dst  Followees_Dst  Int_Followers  \\\n",
       "0            0.0       0.007772       0.000000       0.007772            0.0   \n",
       "1            0.0       0.007772       0.000000       0.038860            0.0   \n",
       "2            0.0       0.007772       0.004988       0.000000            0.0   \n",
       "3            0.0       0.007772       0.019950       0.033679            0.0   \n",
       "4            0.0       0.007772       0.000000       0.051813            0.0   \n",
       "\n",
       "   Int_Followees  \n",
       "0       0.000000  \n",
       "1       0.013158  \n",
       "2       0.000000  \n",
       "3       0.000000  \n",
       "4       0.000000  "
      ]
     },
     "execution_count": 58,
     "metadata": {},
     "output_type": "execute_result"
    }
   ],
   "source": [
    "df.head(5)"
   ]
  },
  {
   "cell_type": "code",
   "execution_count": 59,
   "id": "clinical-wiring",
   "metadata": {},
   "outputs": [],
   "source": [
    "df.to_csv('./data/twitch_preprocessed_data.csv')"
   ]
  },
  {
   "cell_type": "code",
   "execution_count": 61,
   "id": "cloudy-worst",
   "metadata": {},
   "outputs": [
    {
     "name": "stdout",
     "output_type": "stream",
     "text": [
      "Name: \n",
      "Type: DiGraph\n",
      "Number of nodes: 50239\n",
      "Number of edges: 70648\n",
      "Average in degree:   1.4062\n",
      "Average out degree:   1.4062\n"
     ]
    }
   ],
   "source": [
    "g = nx.from_pandas_edgelist(df[['Source','Destination']], source='Source', target='Destination',create_using=nx.DiGraph())\n",
    "print(nx.info(g))"
   ]
  },
  {
   "cell_type": "code",
   "execution_count": 62,
   "id": "planned-speed",
   "metadata": {},
   "outputs": [],
   "source": [
    "df_x = df.drop(columns=['Source', 'Destination', 'Class'])\n",
    "df_y = df[['Class']]\n",
    "x_train, x_test, y_train, y_test  = train_test_split(df_x, df_y, test_size = 0.3, random_state=7)"
   ]
  },
  {
   "cell_type": "markdown",
   "id": "boolean-token",
   "metadata": {},
   "source": [
    "## 1. Logistic Regression"
   ]
  },
  {
   "cell_type": "code",
   "execution_count": 63,
   "id": "center-oklahoma",
   "metadata": {},
   "outputs": [],
   "source": [
    "penalty_values = ['l1', 'l2']\n",
    "c_values = np.logspace(0, 4, 10)\n",
    "param_grid = {'C' : c_values, 'penalty' : penalty_values}\n",
    "\n",
    "gs_lr = GridSearchCV(cv = 10, estimator = LogisticRegression(), param_grid = param_grid)"
   ]
  },
  {
   "cell_type": "code",
   "execution_count": 66,
   "id": "removed-wisconsin",
   "metadata": {},
   "outputs": [
    {
     "name": "stdout",
     "output_type": "stream",
     "text": [
      "Time taken to train model :  24.88  seconds\n"
     ]
    }
   ],
   "source": [
    "start = time.time()\n",
    "gs_lr.fit(x_train, y_train)\n",
    "end = time.time()\n",
    "print('Time taken to train model : ', round(end-start,2) , ' seconds')"
   ]
  },
  {
   "cell_type": "code",
   "execution_count": 68,
   "id": "imposed-damages",
   "metadata": {},
   "outputs": [
    {
     "name": "stdout",
     "output_type": "stream",
     "text": [
      "{'C': 1291.5496650148827, 'penalty': 'l2'}\n"
     ]
    }
   ],
   "source": [
    "pickle.dump(gs_lr.best_estimator_, open('./data/twitch_lr_model.p', 'wb'))\n",
    "print(gs_lr.best_params_)"
   ]
  },
  {
   "cell_type": "code",
   "execution_count": 69,
   "id": "spanish-harvard",
   "metadata": {},
   "outputs": [
    {
     "name": "stdout",
     "output_type": "stream",
     "text": [
      "              precision    recall  f1-score   support\n",
      "\n",
      "           0       0.98      0.92      0.95     11223\n",
      "           1       0.92      0.98      0.95      9972\n",
      "\n",
      "    accuracy                           0.95     21195\n",
      "   macro avg       0.95      0.95      0.95     21195\n",
      "weighted avg       0.95      0.95      0.95     21195\n",
      "\n"
     ]
    }
   ],
   "source": [
    "print(classification_report(gs_lr.best_estimator_.predict(x_test), y_test))"
   ]
  },
  {
   "cell_type": "code",
   "execution_count": 70,
   "id": "necessary-failing",
   "metadata": {},
   "outputs": [
    {
     "name": "stdout",
     "output_type": "stream",
     "text": [
      "[[10321   902]\n",
      " [  199  9773]]\n"
     ]
    }
   ],
   "source": [
    "print(confusion_matrix(gs_lr.best_estimator_.predict(x_test), y_test))"
   ]
  },
  {
   "cell_type": "markdown",
   "id": "frozen-heritage",
   "metadata": {},
   "source": [
    "## 2. Random Forest"
   ]
  },
  {
   "cell_type": "code",
   "execution_count": 71,
   "id": "opening-mason",
   "metadata": {},
   "outputs": [],
   "source": [
    "estimators = [50, 100, 150]\n",
    "depths = [9, 12, 15, 24]\n",
    "split = np.random.randint(100, 150, 2)\n",
    "leaves = np.random.randint(20, 30, 2)\n",
    "param_grid = {'n_estimators' : estimators, 'max_depth' : depths, 'min_samples_split' : split, 'min_samples_leaf' : leaves}\n",
    "\n",
    "gs_rf = GridSearchCV(cv = 10, estimator = RandomForestClassifier(), param_grid = param_grid)"
   ]
  },
  {
   "cell_type": "code",
   "execution_count": 73,
   "id": "assisted-potter",
   "metadata": {},
   "outputs": [
    {
     "name": "stdout",
     "output_type": "stream",
     "text": [
      "Time taken to train model :  1108.18  seconds\n"
     ]
    }
   ],
   "source": [
    "start = time.time()\n",
    "gs_rf.fit(x_train, y_train) \n",
    "end = time.time()\n",
    "print('Time taken to train model : ', round(end-start,2) , ' seconds')"
   ]
  },
  {
   "cell_type": "code",
   "execution_count": 74,
   "id": "sticky-fifteen",
   "metadata": {},
   "outputs": [
    {
     "name": "stdout",
     "output_type": "stream",
     "text": [
      "{'max_depth': 15, 'min_samples_leaf': 21, 'min_samples_split': 110, 'n_estimators': 150}\n"
     ]
    }
   ],
   "source": [
    "pickle.dump(gs_rf.best_estimator_, open('./data/twitch_rf_model.p', 'wb')) \n",
    "print(gs_rf.best_params_)"
   ]
  },
  {
   "cell_type": "code",
   "execution_count": 75,
   "id": "disabled-director",
   "metadata": {},
   "outputs": [
    {
     "name": "stdout",
     "output_type": "stream",
     "text": [
      "              precision    recall  f1-score   support\n",
      "\n",
      "           0       0.98      0.96      0.97     10758\n",
      "           1       0.96      0.98      0.97     10437\n",
      "\n",
      "    accuracy                           0.97     21195\n",
      "   macro avg       0.97      0.97      0.97     21195\n",
      "weighted avg       0.97      0.97      0.97     21195\n",
      "\n"
     ]
    }
   ],
   "source": [
    "print(classification_report(gs_rf.best_estimator_.predict(x_test), y_test)) "
   ]
  },
  {
   "cell_type": "code",
   "execution_count": 76,
   "id": "nearby-rally",
   "metadata": {},
   "outputs": [
    {
     "name": "stdout",
     "output_type": "stream",
     "text": [
      "[[10308   450]\n",
      " [  212 10225]]\n"
     ]
    }
   ],
   "source": [
    "print(confusion_matrix(gs_rf.best_estimator_.predict(x_test), y_test))"
   ]
  },
  {
   "cell_type": "markdown",
   "id": "varying-coach",
   "metadata": {},
   "source": [
    "## 3. SVM"
   ]
  },
  {
   "cell_type": "code",
   "execution_count": 77,
   "id": "ruled-sunday",
   "metadata": {},
   "outputs": [],
   "source": [
    "kernels = ['rbf', 'linear']\n",
    "c_values = [0.001, 0.01, 0.1, 1]\n",
    "param_grid = {'kernel':kernels, 'C':c_values}\n",
    "\n",
    "gs_svm = GridSearchCV(cv=10, estimator=svm.SVC(), param_grid=param_grid)"
   ]
  },
  {
   "cell_type": "code",
   "execution_count": 78,
   "id": "mechanical-burning",
   "metadata": {},
   "outputs": [
    {
     "name": "stdout",
     "output_type": "stream",
     "text": [
      "Time taken to train model :  2897.17  seconds\n"
     ]
    }
   ],
   "source": [
    "start = time.time()\n",
    "gs_svm.fit(x_train, y_train)\n",
    "end = time.time()\n",
    "print('Time taken to train model : ', round(end-start,2) , ' seconds')"
   ]
  },
  {
   "cell_type": "code",
   "execution_count": 79,
   "id": "bibliographic-mandate",
   "metadata": {},
   "outputs": [
    {
     "name": "stdout",
     "output_type": "stream",
     "text": [
      "{'C': 1, 'kernel': 'rbf'}\n"
     ]
    }
   ],
   "source": [
    "pickle.dump(gs_svm.best_estimator_, open('./data/twitch_svm_model.p', 'wb'))\n",
    "print(gs_svm.best_params_)"
   ]
  },
  {
   "cell_type": "code",
   "execution_count": 80,
   "id": "median-pixel",
   "metadata": {},
   "outputs": [
    {
     "name": "stdout",
     "output_type": "stream",
     "text": [
      "              precision    recall  f1-score   support\n",
      "\n",
      "           0       0.97      0.93      0.95     10999\n",
      "           1       0.93      0.97      0.95     10196\n",
      "\n",
      "    accuracy                           0.95     21195\n",
      "   macro avg       0.95      0.95      0.95     21195\n",
      "weighted avg       0.95      0.95      0.95     21195\n",
      "\n"
     ]
    }
   ],
   "source": [
    "print(classification_report(gs_svm.best_estimator_.predict(x_test), y_test))"
   ]
  },
  {
   "cell_type": "code",
   "execution_count": 81,
   "id": "lasting-situation",
   "metadata": {},
   "outputs": [
    {
     "name": "stdout",
     "output_type": "stream",
     "text": [
      "[[10242   757]\n",
      " [  278  9918]]\n"
     ]
    }
   ],
   "source": [
    "print(confusion_matrix(gs_svm.best_estimator_.predict(x_test), y_test))"
   ]
  }
 ],
 "metadata": {
  "kernelspec": {
   "display_name": "Python 3",
   "language": "python",
   "name": "python3"
  },
  "language_info": {
   "codemirror_mode": {
    "name": "ipython",
    "version": 3
   },
   "file_extension": ".py",
   "mimetype": "text/x-python",
   "name": "python",
   "nbconvert_exporter": "python",
   "pygments_lexer": "ipython3",
   "version": "3.8.5"
  }
 },
 "nbformat": 4,
 "nbformat_minor": 5
}
